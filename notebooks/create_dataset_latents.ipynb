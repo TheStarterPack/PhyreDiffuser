{
 "cells": [
  {
   "cell_type": "markdown",
   "id": "3fa2c860",
   "metadata": {},
   "source": [
    "# Graph dataset generation\n",
    "\n",
    "This file contains code to generate and store a dataset of latents that represent objects during Phyre runs. It can be used to load trajectories at training time which encode states $s_{t}, s_{t+1}, ... by latent object properties. A run loaded from the dataset has shape `(T, n_frame_objs, n_obj_properties)`, where `T` is the trajectory length, `n_frame_objs` is the number of object per frame (assumed to be constant in a given run) and `n_obj_properties` contains the different object features.\n",
    "\n",
    "The object features contain x, y, and some other parameters which are extracted directly from the Phyre simulations, i.e. they are ground truths. If you want to change the information present in nodes or edge attributes, edit `extract_objects()`, or `create_sequence_graphs()` respectively.\n",
    "\n",
    "You can adjust configuration parameters such as which Phyre templates and tasks are used, or which compression is used, in the cells in section __Config__. In contrast to images, a latents dataset should not really benefit from compression since it is already pretty dense information."
   ]
  },
  {
   "cell_type": "code",
   "id": "ee6eb4fb",
   "metadata": {
    "ExecuteTime": {
     "end_time": "2024-05-20T08:48:47.160254Z",
     "start_time": "2024-05-20T08:48:47.153129Z"
    }
   },
   "source": [
    "import random\n",
    "from pathlib import Path\n",
    "\n",
    "import matplotlib.pyplot as plt\n",
    "import numpy as np\n",
    "import phyre\n",
    "from tqdm import tqdm\n",
    "import h5py\n",
    "from phyre import SimulationStatus\n",
    "from itertools import combinations"
   ],
   "outputs": [],
   "execution_count": 16
  },
  {
   "cell_type": "markdown",
   "id": "59fc3bfa",
   "metadata": {},
   "source": [
    "### Config"
   ]
  },
  {
   "cell_type": "code",
   "id": "198deb0f",
   "metadata": {
    "ExecuteTime": {
     "end_time": "2024-05-20T08:48:47.291126Z",
     "start_time": "2024-05-20T08:48:47.282540Z"
    }
   },
   "source": [
    "DIR = \"./data\"\n",
    "# used to name the hdf5 file\n",
    "DATASET_NAME = \"phyre_diff_00_1_tasks_1_action_latents\"\n",
    "hdf5_filename = f\"{DIR}/{DATASET_NAME}.h5\"\n",
    "compression = None # \"lzf\"\n",
    "\n",
    "Path(DIR).mkdir(exist_ok=True, parents=True)\n",
    "\n",
    "# hdf attribute keys\n",
    "ATTRIBUTE_SUCCESS_KEY = \"ATTRIBUTE_SUCCESS\"\n",
    "CLOSE_FAIL_KEY = \"ATTRIBUTE_CLOSE_FAIL\"\n",
    "ACTION_KEY = \"ATTRIBUTE_ACTION\""
   ],
   "outputs": [],
   "execution_count": 17
  },
  {
   "cell_type": "code",
   "id": "9efe31b9",
   "metadata": {
    "ExecuteTime": {
     "end_time": "2024-05-20T08:48:47.302222Z",
     "start_time": "2024-05-20T08:48:47.294572Z"
    }
   },
   "source": [
    "# tier\n",
    "tier = 'ball'  # use 'two_balls' for templates with two placeable balls\n",
    "\n",
    "template_ids = ['00000']\n",
    "\n",
    "task_ids = None  #{0: [\"087\", \"854\"]} #  template_idx to [task_idx], if None choose random tasks\n",
    "\n",
    "# how many tasks to choose per template, only applies if task_ids is None\n",
    "num_tasks_per_template = 1\n",
    "\n",
    "# number of positive actions to simulate for each task, template pair\n",
    "num_pos_actions = 1\n",
    "# number of \"close\" negative actions to generate for each positive action\n",
    "num_close_neg_actions = 0\n",
    "# number of negative actions to simulate for each task, template pair\n",
    "num_neg_actions = 0\n",
    "\n",
    "# Stride means we take only every Xth point in the trajectory\n",
    "stride = 3"
   ],
   "outputs": [],
   "execution_count": 18
  },
  {
   "cell_type": "markdown",
   "id": "ffd8913a",
   "metadata": {},
   "source": [
    "### Initialization"
   ]
  },
  {
   "cell_type": "code",
   "id": "1de53bfe",
   "metadata": {
    "ExecuteTime": {
     "end_time": "2024-05-20T08:48:49.840869Z",
     "start_time": "2024-05-20T08:48:47.306289Z"
    }
   },
   "source": [
    "# cache consists of pre-computed simulations for a given task and action\n",
    "cache = phyre.get_default_100k_cache(tier)"
   ],
   "outputs": [],
   "execution_count": 19
  },
  {
   "cell_type": "code",
   "id": "daeaea16",
   "metadata": {
    "ExecuteTime": {
     "end_time": "2024-05-20T08:48:49.854443Z",
     "start_time": "2024-05-20T08:48:49.844445Z"
    }
   },
   "source": [
    "# get all tasks which should be considered\n",
    "template_task_ids = []\n",
    "if task_ids is not None:\n",
    "    for idx, template_id in enumerate(template_ids):\n",
    "        template_task_ids += [(template_id, task_id) for task_id in task_ids[idx]]\n",
    "else:\n",
    "    for template_id in template_ids:\n",
    "        all_tasks = [(template_id, task.split(\":\")[1]) for task in cache.task_ids if task.startswith(template_id)]\n",
    "        template_task_ids += random.sample(all_tasks, num_tasks_per_template)"
   ],
   "outputs": [],
   "execution_count": 20
  },
  {
   "cell_type": "code",
   "id": "b1c194ca",
   "metadata": {
    "ExecuteTime": {
     "end_time": "2024-05-20T08:48:52.052837Z",
     "start_time": "2024-05-20T08:48:49.857103Z"
    }
   },
   "source": [
    "# initialize simulator and cache\n",
    "all_ids = [f\"{template_id}:{task_id}\" for template_id, task_id in template_task_ids]\n",
    "simulator = phyre.initialize_simulator(all_ids, tier)\n",
    "sample = cache.get_sample(all_ids)"
   ],
   "outputs": [],
   "execution_count": 21
  },
  {
   "cell_type": "markdown",
   "id": "88d31556",
   "metadata": {},
   "source": [
    "### Preprocessing of features"
   ]
  },
  {
   "cell_type": "code",
   "id": "af246039",
   "metadata": {
    "ExecuteTime": {
     "end_time": "2024-05-20T08:48:52.067434Z",
     "start_time": "2024-05-20T08:48:52.057018Z"
    }
   },
   "source": [
    "def extract_objects(featurized_objects: phyre.FeaturizedObjects):\n",
    "    \"\"\"\n",
    "    Takes a FeaturizedObjects instance (representing one trajectory/simulation) and extracts object information\n",
    "    xs, ys, cos_angles, sin_angles, diameters, colors, shapes\n",
    "    and returns them as an np.ndarray of shape (T, n_frame_objs, n_obj_properties),\n",
    "    where frame objects is the number of objects per frame.\n",
    "    \"\"\"\n",
    "    # Documentation for what's in featurized_objects: https://phyre.ai/docs/simulator.html#phyre.FeaturizedObjects\n",
    "    xs = featurized_objects.states[:,:,0]\n",
    "    ys = featurized_objects.states[:,:,1]\n",
    "    angles = featurized_objects.states[:,:,2]\n",
    "    cos_angles = np.cos(angles*np.pi*2)\n",
    "    sin_angles = np.sin(angles*np.pi*2)\n",
    "    T = len(xs)\n",
    "    diameters = np.tile(featurized_objects.diameters, (T, 1)) # Expand diameters of shape (num_objects,) to match xs and ys dimensions\n",
    "    colors = np.tile(featurized_objects.colors_one_hot,(T,1,1)) # Expand to length T\n",
    "    shapes = np.tile(featurized_objects.shapes_one_hot,(T,1,1)) # Expand to length T\n",
    "\n",
    "    objects = np.concatenate((\n",
    "            xs[:,:,None],\n",
    "            ys[:,:,None],\n",
    "            sin_angles[:,:,None],\n",
    "            cos_angles[:,:,None],\n",
    "            diameters[:,:,None],\n",
    "            shapes, # one hot encoded\n",
    "            colors), # one hot encoded\n",
    "        axis=-1)\n",
    "\n",
    "    return objects"
   ],
   "outputs": [],
   "execution_count": 22
  },
  {
   "cell_type": "markdown",
   "id": "5ed18bf4",
   "metadata": {},
   "source": [
    "### Storage"
   ]
  },
  {
   "cell_type": "code",
   "id": "9c50ee17",
   "metadata": {
    "ExecuteTime": {
     "end_time": "2024-05-20T08:48:52.075974Z",
     "start_time": "2024-05-20T08:48:52.069678Z"
    }
   },
   "source": [
    "def create_hdf5_file():\n",
    "    return h5py.File(hdf5_filename, \"w\")"
   ],
   "outputs": [],
   "execution_count": 23
  },
  {
   "cell_type": "code",
   "id": "3d8ac35d",
   "metadata": {
    "ExecuteTime": {
     "end_time": "2024-05-20T08:48:52.083881Z",
     "start_time": "2024-05-20T08:48:52.078535Z"
    }
   },
   "source": [
    "def open_hdf5_file():\n",
    "    return h5py.File(hdf5_filename, \"r\")"
   ],
   "outputs": [],
   "execution_count": 24
  },
  {
   "cell_type": "code",
   "id": "337db291",
   "metadata": {
    "ExecuteTime": {
     "end_time": "2024-05-20T08:48:52.093490Z",
     "start_time": "2024-05-20T08:48:52.086411Z"
    }
   },
   "source": [
    "def save_simulation_to_hdf5_file(file: h5py.File, objects, template, task, run_number, simulation_status,\n",
    "                                 close_fail=False, action=None, compression=None):\n",
    "    # This saves the latents of one run to the dataset\n",
    "    \n",
    "    dataset = file.create_dataset(f\"{template}/{task}/{run_number}\",\n",
    "                                 data = objects,\n",
    "                                 chunks=True,\n",
    "                                 compression=compression)\n",
    "\n",
    "    dataset.attrs[ATTRIBUTE_SUCCESS_KEY] = simulation_status == SimulationStatus.SOLVED\n",
    "    dataset.attrs[CLOSE_FAIL_KEY] = close_fail\n",
    "    dataset.attrs[ACTION_KEY] = action"
   ],
   "outputs": [],
   "execution_count": 25
  },
  {
   "cell_type": "markdown",
   "id": "e22e50cd",
   "metadata": {},
   "source": [
    "### Distance Metrics"
   ]
  },
  {
   "cell_type": "code",
   "id": "fa19a59a",
   "metadata": {
    "ExecuteTime": {
     "end_time": "2024-05-20T08:48:52.101580Z",
     "start_time": "2024-05-20T08:48:52.096304Z"
    }
   },
   "source": [
    "def action_distance(a, b):\n",
    "    return np.linalg.norm(a - b)"
   ],
   "outputs": [],
   "execution_count": 26
  },
  {
   "cell_type": "markdown",
   "id": "5258bc3d",
   "metadata": {},
   "source": [
    "### Dataset Generation"
   ]
  },
  {
   "cell_type": "code",
   "id": "2796dab6",
   "metadata": {
    "ExecuteTime": {
     "end_time": "2024-05-20T08:48:55.133184Z",
     "start_time": "2024-05-20T08:48:52.104351Z"
    }
   },
   "source": [
    "file = create_hdf5_file()\n",
    "sample_images = np.zeros((len(all_ids), 256, 256))\n",
    "for task_idx, task in enumerate(all_ids):\n",
    "    print(f\"Task: {task}\")\n",
    "    template_id, task_id = task.split(\":\")\n",
    "    success_idxs = []\n",
    "    fail_idxs = []\n",
    "\n",
    "    for i, simulation_status in enumerate(sample[\"simulation_statuses\"][task_idx]):\n",
    "        if simulation_status == SimulationStatus.SOLVED:\n",
    "            success_idxs.append(i)\n",
    "        elif simulation_status == SimulationStatus.NOT_SOLVED:\n",
    "            fail_idxs.append(i)\n",
    "\n",
    "    successes = random.sample(success_idxs, num_pos_actions)\n",
    "\n",
    "    close_fails = []\n",
    "    for success in tqdm(successes, desc=\"Finding close fails\"):\n",
    "        positive_action = sample[\"actions\"][success]\n",
    "        fails_sorted_by_dist = sorted(fail_idxs.copy(),\n",
    "                                      key=lambda x: action_distance(positive_action, sample[\"actions\"][x]))\n",
    "        close_fails.extend(fails_sorted_by_dist[:num_close_neg_actions])\n",
    "        \n",
    "    fails = random.sample(fail_idxs, num_neg_actions)\n",
    "    \n",
    "    # Create a sample image for each task\n",
    "    sample_image = simulator.simulate_action(task_index=task_idx, action=sample[\"actions\"][successes[0]],\n",
    "                                             need_images=True, need_featurized_objects=False, stride=1000).images[0]\n",
    "    sample_images[task_idx] = sample_image\n",
    "\n",
    "    for run_number, action_idx in enumerate(tqdm((successes + fails + close_fails), desc=\"Saving action simulations\", unit=\"actions\")):\n",
    "        action = sample[\"actions\"][action_idx]\n",
    "\n",
    "        simulation = simulator.simulate_action(task_index=task_idx, action=action, need_images=False, stride=stride,\n",
    "                                               need_featurized_objects=True)\n",
    "\n",
    "        objects = extract_objects(simulation.featurized_objects)\n",
    "        \n",
    "        save_simulation_to_hdf5_file(file, objects, template_id, task_id, run_number, simulation.status,\n",
    "                                     action=action, close_fail=action_idx in close_fails, compression=compression)\n",
    "\n",
    "\n",
    "file.close()"
   ],
   "outputs": [
    {
     "name": "stdout",
     "output_type": "stream",
     "text": [
      "Task: 00000:096\n"
     ]
    },
    {
     "name": "stderr",
     "output_type": "stream",
     "text": [
      "Finding close fails: 100%|██████████| 1/1 [00:00<00:00,  1.42it/s]\n",
      "Saving action simulations: 100%|██████████| 1/1 [00:00<00:00, 88.48actions/s]\n"
     ]
    }
   ],
   "execution_count": 27
  },
  {
   "cell_type": "markdown",
   "id": "f27c2df7",
   "metadata": {},
   "source": [
    "### Experimentation / Loading"
   ]
  },
  {
   "cell_type": "code",
   "id": "68a298ab",
   "metadata": {
    "ExecuteTime": {
     "end_time": "2024-05-20T08:48:55.451081Z",
     "start_time": "2024-05-20T08:48:55.139868Z"
    }
   },
   "source": [
    "# Show a sample image for each of the stored tasks\n",
    "for task_idx, task in enumerate(all_ids):\n",
    "    plt.figure()\n",
    "    plt.imshow(phyre.observations_to_uint8_rgb(sample_images[task_idx].astype(np.int8)))\n",
    "    plt.title(f\"Sample action for task {task}\")\n",
    "    plt.show()\n",
    "    plt.close()"
   ],
   "outputs": [
    {
     "data": {
      "text/plain": [
       "<Figure size 640x480 with 1 Axes>"
      ],
      "image/png": "[encoded data removed]"
     },
     "metadata": {},
     "output_type": "display_data"
    }
   ],
   "execution_count": 28
  },
  {
   "cell_type": "code",
   "id": "ff588133",
   "metadata": {
    "ExecuteTime": {
     "end_time": "2024-05-20T08:48:55.462224Z",
     "start_time": "2024-05-20T08:48:55.453333Z"
    }
   },
   "source": [
    "# Print lengths of trajectories\n",
    "with open_hdf5_file() as f:\n",
    "    for template_id in f.keys():\n",
    "        print(template_id)\n",
    "        for task_id in f[template_id].keys():\n",
    "            print(task_id)\n",
    "            for run in f[template_id][task_id]:\n",
    "                print(f[template_id][task_id][run].shape)"
   ],
   "outputs": [
    {
     "name": "stdout",
     "output_type": "stream",
     "text": [
      "00000\n",
      "096\n",
      "(207, 3, 15)\n"
     ]
    }
   ],
   "execution_count": 29
  },
  {
   "cell_type": "code",
   "id": "9ce5a1d1-13de-42ba-b7b0-7227a6ad9f32",
   "metadata": {
    "ExecuteTime": {
     "end_time": "2024-05-20T08:48:55.473041Z",
     "start_time": "2024-05-20T08:48:55.464158Z"
    }
   },
   "source": "open_hdf5_file().filename",
   "outputs": [
    {
     "data": {
      "text/plain": [
       "'./data/phyre_diff_00_1_tasks_1_action_latents.h5'"
      ]
     },
     "execution_count": 30,
     "metadata": {},
     "output_type": "execute_result"
    }
   ],
   "execution_count": 30
  },
  {
   "metadata": {
    "ExecuteTime": {
     "end_time": "2024-05-20T08:48:55.478748Z",
     "start_time": "2024-05-20T08:48:55.475213Z"
    }
   },
   "cell_type": "code",
   "source": "",
   "id": "e44e2de13a12845",
   "outputs": [],
   "execution_count": 30
  }
 ],
 "metadata": {
  "kernelspec": {
   "display_name": "Python 3 (ipykernel)",
   "language": "python",
   "name": "python3"
  },
  "language_info": {
   "codemirror_mode": {
    "name": "ipython",
    "version": 3
   },
   "file_extension": ".py",
   "mimetype": "text/x-python",
   "name": "python",
   "nbconvert_exporter": "python",
   "pygments_lexer": "ipython3",
   "version": "3.9.19"
  }
 },
 "nbformat": 4,
 "nbformat_minor": 5
}
